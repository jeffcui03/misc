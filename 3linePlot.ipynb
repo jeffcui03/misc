{
 "cells": [
  {
   "cell_type": "markdown",
   "metadata": {
    "colab_type": "text",
    "id": "hobGWBDUsf47"
   },
   "source": [
    "# Notebook Instructions\n",
    "<i>You can run the notebook document sequentially (one cell at a time) by pressing <b> shift + enter</b>. While a cell is running, a [*] will display on the left. When it has been run, a number will display indicating the order in which it was run in the notebook [8].</i>\n",
    "\n",
    "<i>Enter edit mode by pressing <b>`Enter`</b> or using the mouse to click on a cell's editor area. Edit mode is indicated by a green cell border and a prompt showing in the editor area.</i> <BR>\n",
    "    \n",
    "This course is based on specific versions of python packages. You can find the details of the same in <a href='https://quantra.quantinsti.com/quantra-notebook' target=\"_blank\" >this manual</a>. The manual also explains how to use these codes in other versions of python packages. <BR>"
   ]
  },
  {
   "cell_type": "markdown",
   "metadata": {
    "colab_type": "text",
    "id": "fZ6k7Ae3vQa9"
   },
   "source": [
    "# The Triple Barrier Method"
   ]
  },
  {
   "cell_type": "markdown",
   "metadata": {
    "colab_type": "text",
    "id": "NFhG-vrIvQa-"
   },
   "source": [
    "## How to label a dataset correctly\n",
    "A standard approach in financial machine learning is to try to predict how the price will change after N bars pass. For example, to predict how the price will change after the next 30 minutes and go long or short according to the forecast. However, when real traders open a position after a signal, they (should!) already have in mind their profit goals and stop losses. That is, although they care what happens at the end of the 30 minutes, they care more about what happens during that period. The path the prices take matters!"
   ]
  },
  {
   "cell_type": "markdown",
   "metadata": {
    "colab_type": "text",
    "id": "yJoS0-BNvQa_"
   },
   "source": [
    "## Triple barrier labelling\n",
    "We want to know what will happen during the next N bars. Will, we hit our stop-loss? Will we reach our profit-taking level? Or with the price move in a narrow range and so it is better not to enter at all? We can address this with what we call the triple barrier method, with three barriers: horizontal ones for stop loss and profit-taking, and one vertical for reaching the end of the period without touching the other two. There is no need for the horizontal barriers to be symmetric and static let's kept it fixed and symmetric for illustration.\n",
    "\n",
    "You will learn to figure out which of the three barriers will be touched first. The position that we take after N bars is solely determined by which barrier is touched first."
   ]
  },
  {
   "cell_type": "code",
   "execution_count": 1,
   "metadata": {
    "colab": {},
    "colab_type": "code",
    "id": "0Zzk97jssf5B"
   },
   "outputs": [],
   "source": [
    "# Import the modules\n",
    "import numpy as np\n",
    "import pandas as pd\n",
    "\n",
    "import matplotlib.pyplot as plt\n",
    "%matplotlib inline"
   ]
  },
  {
   "cell_type": "markdown",
   "metadata": {
    "colab_type": "text",
    "id": "E13TvmVTsf5F"
   },
   "source": [
    "## Import the Data"
   ]
  },
  {
   "cell_type": "code",
   "execution_count": 2,
   "metadata": {
    "colab": {},
    "colab_type": "code",
    "id": "AwoQzLTrsf5G",
    "outputId": "4f677f23-f806-4a13-819e-9d9b30891ab6"
   },
   "outputs": [
    {
     "data": {
      "text/html": [
       "<div>\n",
       "<style scoped>\n",
       "    .dataframe tbody tr th:only-of-type {\n",
       "        vertical-align: middle;\n",
       "    }\n",
       "\n",
       "    .dataframe tbody tr th {\n",
       "        vertical-align: top;\n",
       "    }\n",
       "\n",
       "    .dataframe thead th {\n",
       "        text-align: right;\n",
       "    }\n",
       "</style>\n",
       "<table border=\"1\" class=\"dataframe\">\n",
       "  <thead>\n",
       "    <tr style=\"text-align: right;\">\n",
       "      <th></th>\n",
       "      <th>Date</th>\n",
       "      <th>Open</th>\n",
       "      <th>High</th>\n",
       "      <th>Low</th>\n",
       "      <th>Close</th>\n",
       "      <th>Adj Close</th>\n",
       "      <th>Volume</th>\n",
       "    </tr>\n",
       "  </thead>\n",
       "  <tbody>\n",
       "    <tr>\n",
       "      <th>0</th>\n",
       "      <td>2018-12-31</td>\n",
       "      <td>34.000000</td>\n",
       "      <td>34.220001</td>\n",
       "      <td>32.919998</td>\n",
       "      <td>33.450001</td>\n",
       "      <td>32.100094</td>\n",
       "      <td>8455500</td>\n",
       "    </tr>\n",
       "    <tr>\n",
       "      <th>1</th>\n",
       "      <td>2019-01-02</td>\n",
       "      <td>32.849998</td>\n",
       "      <td>33.810001</td>\n",
       "      <td>32.410000</td>\n",
       "      <td>33.639999</td>\n",
       "      <td>32.282429</td>\n",
       "      <td>7662300</td>\n",
       "    </tr>\n",
       "    <tr>\n",
       "      <th>2</th>\n",
       "      <td>2019-01-03</td>\n",
       "      <td>33.340000</td>\n",
       "      <td>33.680000</td>\n",
       "      <td>32.200001</td>\n",
       "      <td>32.250000</td>\n",
       "      <td>30.948524</td>\n",
       "      <td>11618300</td>\n",
       "    </tr>\n",
       "    <tr>\n",
       "      <th>3</th>\n",
       "      <td>2019-01-04</td>\n",
       "      <td>32.799999</td>\n",
       "      <td>33.570000</td>\n",
       "      <td>32.430000</td>\n",
       "      <td>33.330002</td>\n",
       "      <td>31.984938</td>\n",
       "      <td>10784000</td>\n",
       "    </tr>\n",
       "    <tr>\n",
       "      <th>4</th>\n",
       "      <td>2019-01-07</td>\n",
       "      <td>33.709999</td>\n",
       "      <td>34.970001</td>\n",
       "      <td>33.480000</td>\n",
       "      <td>34.360001</td>\n",
       "      <td>32.973373</td>\n",
       "      <td>10722300</td>\n",
       "    </tr>\n",
       "  </tbody>\n",
       "</table>\n",
       "</div>"
      ],
      "text/plain": [
       "         Date       Open       High        Low      Close  Adj Close    Volume\n",
       "0  2018-12-31  34.000000  34.220001  32.919998  33.450001  32.100094   8455500\n",
       "1  2019-01-02  32.849998  33.810001  32.410000  33.639999  32.282429   7662300\n",
       "2  2019-01-03  33.340000  33.680000  32.200001  32.250000  30.948524  11618300\n",
       "3  2019-01-04  32.799999  33.570000  32.430000  33.330002  31.984938  10784000\n",
       "4  2019-01-07  33.709999  34.970001  33.480000  34.360001  32.973373  10722300"
      ]
     },
     "execution_count": 2,
     "metadata": {},
     "output_type": "execute_result"
    }
   ],
   "source": [
    "# Stock data is stored in the directory 'data'\n",
    "path = '../data/'\n",
    "# Read the pickle file\n",
    "data = pd.read_csv(path+'/msft_ohlcv_Jan_2019_to_Dec_2019.csv')\n",
    "# Print the top 5 rows of the dataframe\n",
    "data.head()"
   ]
  },
  {
   "cell_type": "markdown",
   "metadata": {
    "colab_type": "text",
    "id": "SSpOoSL_sf5K"
   },
   "source": [
    "## Feature and Label Window\n",
    "Feature window is the N bars after which we want to figure out the position we should take. The price bars in this window are passed as the predictor variable to the machine learning algorithm. The label window is M bars after the Feature window. It is used for generating labels corresponding to the features from the feature window. The length of these both are generally set based on empirical observation or computational ability.\n",
    "\n",
    "We also use a prefixed daily return threshold to use as the horizontal barriers for taking profit (upper) and stopping loss (lower)."
   ]
  },
  {
   "cell_type": "code",
   "execution_count": 3,
   "metadata": {
    "colab": {},
    "colab_type": "code",
    "id": "56vOKZT9sf5L"
   },
   "outputs": [],
   "source": [
    "# The time window for the features - N\n",
    "feature_window = 60\n",
    "\n",
    "# The time window for the labels - M\n",
    "label_window = 10\n",
    "\n",
    "# Fixed return threshold for setting horizontal barriers in the label window\n",
    "threshold = 0.03\n",
    "\n",
    "# Slicing out the data using the respective window lengths\n",
    "feature_window_data = data['Adj Close'][:feature_window+1]\n",
    "label_window_data = data['Adj Close'][feature_window:feature_window+label_window+1]"
   ]
  },
  {
   "cell_type": "markdown",
   "metadata": {
    "colab_type": "text",
    "id": "Mx6puSa_sf5N"
   },
   "source": [
    "## The labelling method\n",
    "In this code, we show the logic of how we will use the M sized label window to come up with a label encoding. First, we find the cumulative percentage change in the adjusted close price from the beginning of the label window. Thereafter we define a function called triple_barrier_target_class. In this method, we iterate over all cumulative percentage changes between the price of the first day of the label window and each day. If at any day, the cumulative return of that day surpasses a positive fixed threshold it implies that the upper horizontal barrier was hit. Hence, we return 1 and take a buy position. If, the cumulative return of that day is lower than a negative fixed threshold it implies that the lower horizontal barrier was hit. Hence, we return -1 and take a buy position. If at the end of the iteration, neither was hit we return 0 implying that the vertical barrier was hit and we took no position."
   ]
  },
  {
   "cell_type": "code",
   "execution_count": 4,
   "metadata": {
    "colab": {},
    "colab_type": "code",
    "id": "G4RP1VpHsf5P"
   },
   "outputs": [],
   "source": [
    "# Calculate the percentage change beginning to each day of the label window\n",
    "label_window_cum_returns = (label_window_data.pct_change()+1).cumprod()\n",
    "\n",
    "\n",
    "def triple_barrier_target_class(label_window_cum_returns, threshold):\n",
    "    # For each percentage change from the beginning\n",
    "    for cum_returns in label_window_cum_returns:\n",
    "        # Check if the percentage change is greater than the threshold for any day\n",
    "        if cum_returns > 1+threshold:\n",
    "            # This implies that it touched the upper horizontal barrier and we take buy position\n",
    "            return 1\n",
    "        # Check if the percentage change is less than the threshold for any day\n",
    "        if cum_returns < 1-threshold:\n",
    "            # This implies that it touched the lower horizontal barrier and we take sell position\n",
    "            return -1\n",
    "    # If on no day it is lower than or higher than the preset threshold\n",
    "    # it implies that it touched the vertical barrier and we take no position\n",
    "    return 0"
   ]
  },
  {
   "cell_type": "markdown",
   "metadata": {
    "colab_type": "text",
    "id": "fS2yJ4yNsf5S"
   },
   "source": [
    "## The Label\n",
    "Here from the example, we got a window where the upper horizontal barrier was breached first. Hence the label was set to 1 indicating that the upper barrier is hit first and we should take profit and hence our position should be buy."
   ]
  },
  {
   "cell_type": "code",
   "execution_count": 5,
   "metadata": {
    "colab": {},
    "colab_type": "code",
    "id": "heuOdhjTsf5T",
    "outputId": "3118cd11-9dc4-4e0e-9423-6388ab9bad80"
   },
   "outputs": [
    {
     "name": "stdout",
     "output_type": "stream",
     "text": [
      "The Target Class is  1\n"
     ]
    }
   ],
   "source": [
    "label = triple_barrier_target_class(label_window_cum_returns, threshold)\n",
    "print(\"The Target Class is \", label)"
   ]
  },
  {
   "cell_type": "markdown",
   "metadata": {
    "colab_type": "text",
    "id": "Cz90vScfsf5X"
   },
   "source": [
    "## Plotting\n",
    "Let's visualise labelling via the triple barrier method. The time series in blue are the feature bars or window we talked about earlier. The time series in orange is the one corresponding to the label window or bars. The dotted lines are the upper (red) and lower (green) horizontal barriers. As you can see, the upper horizontal barrier is breached first by the orange time series. This is before it touches either the lower horizontal barrier or the vertical barrier (dotted blue line) at the right edge of the graph. This is consistent with the label we got previously."
   ]
  },
  {
   "cell_type": "code",
   "execution_count": 6,
   "metadata": {
    "colab": {},
    "colab_type": "code",
    "id": "bCUIKuVUsf5Y",
    "outputId": "7d0dcb40-d9ee-4283-afbb-422cde6ab397"
   },
   "outputs": [
    {
     "data": {
      "image/png": "[encoded data removed]",
      "text/plain": [
       "<Figure size 720x504 with 1 Axes>"
      ]
     },
     "metadata": {},
     "output_type": "display_data"
    }
   ],
   "source": [
    "# Define the figure size for the plot\n",
    "plt.figure(figsize=(10, 7))\n",
    "\n",
    "# Define the label for the title of the figure\n",
    "plt.title(\"Triple Barrier Method\", fontsize=16)\n",
    "\n",
    "# Define the labels for x-axis and y-axis\n",
    "plt.xlabel(\"Time in days\", fontsize=14)\n",
    "plt.ylabel(\"Price in USD\", fontsize=14)\n",
    "\n",
    "# Define the tick size for x-axis and y-axis\n",
    "plt.xticks(fontsize=12)\n",
    "plt.yticks(fontsize=12)\n",
    "plt.grid()\n",
    "\n",
    "# Plotting both the feature window bars and label window bars\n",
    "feature_window_data.plot()\n",
    "label_window_data.plot()\n",
    "\n",
    "# Plot horizontal barriers as a function of the last traded price of the feature window\n",
    "plt.axhline(y=feature_window_data.iloc[-1]\n",
    "            * (1+threshold), color='r', linestyle=\"--\")\n",
    "plt.axhline(y=feature_window_data.iloc[-1]\n",
    "            * (1-threshold), color='g', linestyle=\"--\")\n",
    "\n",
    "# Plot vertical barrier or horizon at the end of the label window\n",
    "plt.axvline(x=feature_window+label_window, color='b', linestyle=\"--\")\n",
    "\n",
    "# Feature and label window put together\n",
    "feature_label_window_data = data['Adj Close'][0:feature_window+label_window+1]\n",
    "\n",
    "# Greying the label window\n",
    "plt.fill_between(label_window_data.index, feature_label_window_data.min(\n",
    "), feature_label_window_data.max(), facecolor='lightgrey')\n",
    "\n",
    "plt.grid()\n",
    "plt.show()"
   ]
  },
  {
   "cell_type": "markdown",
   "metadata": {
    "colab_type": "text",
    "id": "X63kbsBPsf5b"
   },
   "source": [
    "## Conclusion\n",
    "Here, with a very simple example involving just one feature and one label window and fixed barrier thresholds we learnt how the triple barrier method works. One nice exercise to reinforce what we learnt in this notebook will be to have dynamic horizontal barriers instead of a fixed one. Dynamic barriers will be a function of the short term volatility."
   ]
  }
 ],
 "metadata": {
  "colab": {
   "collapsed_sections": [],
   "name": "Triple_Barrier_example.ipynb",
   "provenance": []
  },
  "kernelspec": {
   "display_name": "Python 3",
   "language": "python",
   "name": "python3"
  },
  "language_info": {
   "codemirror_mode": {
    "name": "ipython",
    "version": 3
   },
   "file_extension": ".py",
   "mimetype": "text/x-python",
   "name": "python",
   "nbconvert_exporter": "python",
   "pygments_lexer": "ipython3",
   "version": "3.6.5"
  },
  "varInspector": {
   "cols": {
    "lenName": 16,
    "lenType": 16,
    "lenVar": 40
   },
   "kernels_config": {
    "python": {
     "delete_cmd_postfix": "",
     "delete_cmd_prefix": "del ",
     "library": "var_list.py",
     "varRefreshCmd": "print(var_dic_list())"
    },
    "r": {
     "delete_cmd_postfix": ") ",
     "delete_cmd_prefix": "rm(",
     "library": "var_list.r",
     "varRefreshCmd": "cat(var_dic_list()) "
    }
   },
   "types_to_exclude": [
    "module",
    "function",
    "builtin_function_or_method",
    "instance",
    "_Feature"
   ],
   "window_display": false
  }
 },
 "nbformat": 4,
 "nbformat_minor": 1
}
